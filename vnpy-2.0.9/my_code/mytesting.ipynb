{
 "cells": [
  {
   "cell_type": "code",
   "execution_count": 1,
   "metadata": {},
   "outputs": [],
   "source": [
    "import sys\n",
    "from PyQt5.QtWidgets import QApplication,QWidget\n"
   ]
  },
  {
   "cell_type": "code",
   "execution_count": 5,
   "metadata": {},
   "outputs": [],
   "source": [
    "if __name__=='__main__':\n",
    "    # 创建QApplication类的实例\n",
    "    app=QApplication(sys.argv)\n",
    "    # 创建一个窗口\n",
    "    w=QWidget()\n",
    "    # 设置窗口的尺寸\n",
    "    w.resize(400,200)\n",
    "    # 移动窗口\n",
    "    w.move(300,300)\n",
    "    # 设置窗口的标题\n",
    "    w.setWindowTitle('第一个基于PyQt5的桌面应用')\n",
    "    # 显示窗口\n",
    "    w.show()\n",
    "    # 进入程序的主循环"
   ]
  },
  {
   "cell_type": "code",
   "execution_count": null,
   "metadata": {},
   "outputs": [],
   "source": []
  }
 ],
 "metadata": {
  "language_info": {
   "name": "python",
   "codemirror_mode": {
    "name": "ipython",
    "version": 3
   },
   "version": "3.7.1-final"
  },
  "orig_nbformat": 2,
  "file_extension": ".py",
  "mimetype": "text/x-python",
  "name": "python",
  "npconvert_exporter": "python",
  "pygments_lexer": "ipython3",
  "version": 3,
  "kernelspec": {
   "name": "python37164bitf5e7898cd1f24d3fa21ecde7a60ceca8",
   "display_name": "Python 3.7.1 64-bit"
  }
 },
 "nbformat": 4,
 "nbformat_minor": 2
}