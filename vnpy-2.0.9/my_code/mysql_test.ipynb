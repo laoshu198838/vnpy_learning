{
 "cells": [
  {
   "cell_type": "code",
   "execution_count": 1,
   "metadata": {},
   "outputs": [],
   "source": [
    "from pymysql import connect\n",
    ""
   ]
  },
  {
   "cell_type": "code",
   "execution_count": 2,
   "metadata": {},
   "outputs": [],
   "source": [
    "conn=connect(host='localhost',port=3306,user='root',password='zlb198838',database='python_test',charset='utf8')"
   ]
  },
  {
   "cell_type": "code",
   "execution_count": 3,
   "metadata": {},
   "outputs": [],
   "source": [
    "cs1=conn.cursor()"
   ]
  },
  {
   "cell_type": "code",
   "execution_count": 4,
   "metadata": {},
   "outputs": [
    {
     "output_type": "stream",
     "name": "stdout",
     "text": "(4, 'x550cc 15.6英寸笔记本')\n(5, 'x240 超级笔记本')\n(6, 'u330p 13.3英寸超极本')\n(7, 'svp123445scb 触控本')\n(8, 'ipad mini 7.9英寸平板电脑')\n(9, 'ideacenter c340 20英寸一体电脑')\n(10, 'vostro 3800-r1206 台式电脑')\n(11, 'imac me086ch/a 21.5英寸一体电脑')\n(12, 'z220sff f4f60p工作站')\n(13, 'poweredge ii服务器')\n(14, 'mac pro专业级台式电脑')\n(15, 'hmz-t3w 头戴显示设备')\n(16, '商务双肩背包')\n(17, 'x3250 m4机架式服务器')\n(18, '商务双肩背包')\n"
    }
   ],
   "source": [
    "count=cs1.execute('select id,name from goods where id>=4')\n",
    "for i in range(count):\n",
    "    result=cs1.fetchone()\n",
    "    print(result)\n",
    "# cs1.close()\n",
    "# conn.close()"
   ]
  },
  {
   "cell_type": "code",
   "execution_count": 11,
   "metadata": {},
   "outputs": [
    {
     "output_type": "execute_result",
     "data": {
      "text/plain": "(1, 'r510 15.6英寸笔记本', 1, 1, Decimal('3399.000'), b'\\x01', b'\\x00')"
     },
     "metadata": {},
     "execution_count": 11
    }
   ],
   "source": [
    "cs1.execute('select * from goods')\n",
    "# cs1.fetchall()\n",
    "cs1.fetchmany(3)[0]\n",
    "# cs1.fetchall()"
   ]
  },
  {
   "cell_type": "code",
   "execution_count": 57,
   "metadata": {},
   "outputs": [
    {
     "output_type": "execute_result",
     "data": {
      "text/plain": "((1, 'laowang'), (2, 'dalaoli'), (3, '周利兵'))"
     },
     "metadata": {},
     "execution_count": 57
    }
   ],
   "source": [
    "one=cs1.fetchall()\n",
    "one"
   ]
  },
  {
   "cell_type": "code",
   "execution_count": 27,
   "metadata": {},
   "outputs": [
    {
     "output_type": "execute_result",
     "data": {
      "text/plain": "()"
     },
     "metadata": {},
     "execution_count": 27
    }
   ],
   "source": [
    "cs1.fetchall()"
   ]
  },
  {
   "cell_type": "code",
   "execution_count": 29,
   "metadata": {},
   "outputs": [],
   "source": [
    "for i in cs1.fetchall():\n",
    "    print(i)"
   ]
  },
  {
   "cell_type": "code",
   "execution_count": null,
   "metadata": {},
   "outputs": [],
   "source": []
  }
 ],
 "metadata": {
  "language_info": {
   "name": "python",
   "codemirror_mode": {
    "name": "ipython",
    "version": 3
   },
   "version": "3.7.1-final"
  },
  "orig_nbformat": 2,
  "file_extension": ".py",
  "mimetype": "text/x-python",
  "name": "python",
  "npconvert_exporter": "python",
  "pygments_lexer": "ipython3",
  "version": 3,
  "kernelspec": {
   "name": "python37164bitf5e7898cd1f24d3fa21ecde7a60ceca8",
   "display_name": "Python 3.7.1 64-bit"
  }
 },
 "nbformat": 4,
 "nbformat_minor": 2
}